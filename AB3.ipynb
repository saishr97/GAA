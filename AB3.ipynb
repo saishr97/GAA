{
 "cells": [
  {
   "cell_type": "markdown",
   "metadata": {},
   "source": [
    "#### Conversion Rate Analysis (Z-Test)\n",
    "##### Scenario\n",
    "You're testing whether a new checkout page (Group B) improves conversion rates compared to the old one (Group A).\n",
    "\n",
    "Data Structure (conversion_data.csv)\n",
    "Each row represents a user who visited the website:\n",
    "\n",
    "User_ID: Unique ID for each user.\n",
    "Group: \"A\" (Old Page) or \"B\" (New Page).\n",
    "Converted: 1 if the user completed the checkout, 0 otherwise.\n",
    "Statistical Test Used: Two-Proportion Z-Test\n",
    "Since we’re comparing conversion rates (percentages) between two groups, we use a Z-test for proportions."
   ]
  },
  {
   "cell_type": "code",
   "execution_count": null,
   "metadata": {},
   "outputs": [],
   "source": [
    "import pandas as pd\n",
    "import numpy as np\n",
    "from statsmodels.stats.proportion import proportions_ztest"
   ]
  },
  {
   "cell_type": "code",
   "execution_count": 12,
   "metadata": {},
   "outputs": [
    {
     "data": {
      "text/html": [
       "<div>\n",
       "<style scoped>\n",
       "    .dataframe tbody tr th:only-of-type {\n",
       "        vertical-align: middle;\n",
       "    }\n",
       "\n",
       "    .dataframe tbody tr th {\n",
       "        vertical-align: top;\n",
       "    }\n",
       "\n",
       "    .dataframe thead th {\n",
       "        text-align: right;\n",
       "    }\n",
       "</style>\n",
       "<table border=\"1\" class=\"dataframe\">\n",
       "  <thead>\n",
       "    <tr style=\"text-align: right;\">\n",
       "      <th></th>\n",
       "      <th>User_ID</th>\n",
       "      <th>Group</th>\n",
       "      <th>Converted</th>\n",
       "    </tr>\n",
       "  </thead>\n",
       "  <tbody>\n",
       "    <tr>\n",
       "      <th>0</th>\n",
       "      <td>1</td>\n",
       "      <td>A</td>\n",
       "      <td>0</td>\n",
       "    </tr>\n",
       "    <tr>\n",
       "      <th>1</th>\n",
       "      <td>2</td>\n",
       "      <td>B</td>\n",
       "      <td>1</td>\n",
       "    </tr>\n",
       "    <tr>\n",
       "      <th>2</th>\n",
       "      <td>3</td>\n",
       "      <td>B</td>\n",
       "      <td>0</td>\n",
       "    </tr>\n",
       "    <tr>\n",
       "      <th>3</th>\n",
       "      <td>4</td>\n",
       "      <td>A</td>\n",
       "      <td>0</td>\n",
       "    </tr>\n",
       "    <tr>\n",
       "      <th>4</th>\n",
       "      <td>5</td>\n",
       "      <td>A</td>\n",
       "      <td>1</td>\n",
       "    </tr>\n",
       "  </tbody>\n",
       "</table>\n",
       "</div>"
      ],
      "text/plain": [
       "   User_ID Group  Converted\n",
       "0        1     A          0\n",
       "1        2     B          1\n",
       "2        3     B          0\n",
       "3        4     A          0\n",
       "4        5     A          1"
      ]
     },
     "execution_count": 12,
     "metadata": {},
     "output_type": "execute_result"
    }
   ],
   "source": [
    "df = pd.read_csv(\"conversion_data.csv\")\n",
    "df.head()"
   ]
  },
  {
   "cell_type": "code",
   "execution_count": 13,
   "metadata": {},
   "outputs": [],
   "source": [
    "# Conversion counts\n",
    "\n",
    "conversions_A = df[df['Group'] == 'A']['Converted'].sum()\n",
    "conversions_B = df[df['Group'] == 'B']['Converted'].sum()\n",
    "\n",
    "total_A = df[df['Group'] == 'A'].shape[0]\n",
    "total_B = df[df['Group'] == 'B'].shape[0]"
   ]
  },
  {
   "cell_type": "code",
   "execution_count": 14,
   "metadata": {},
   "outputs": [
    {
     "name": "stdout",
     "output_type": "stream",
     "text": [
      "Z-Statistic: -1.54\n",
      "p_value: 0.12\n"
     ]
    }
   ],
   "source": [
    "# Z-Test\n",
    "\n",
    "count = np.array([conversions_A, conversions_B])\n",
    "nobs = np.array([total_A, total_B])\n",
    "\n",
    "z_stat, p_value = proportions_ztest(count, nobs)\n",
    "\n",
    "print(f\"Z-Statistic: {z_stat:.2f}\")\n",
    "print(f\"p_value: {p_value:.2f}\")"
   ]
  },
  {
   "cell_type": "code",
   "execution_count": 15,
   "metadata": {},
   "outputs": [
    {
     "name": "stdout",
     "output_type": "stream",
     "text": [
      "No significant difference.\n"
     ]
    }
   ],
   "source": [
    "# Conclusion\n",
    "if p_value < 0.05:\n",
    "    print(\"Significant difference in conversion rates!\")\n",
    "else:\n",
    "    print(\"No significant difference.\")"
   ]
  }
 ],
 "metadata": {
  "kernelspec": {
   "display_name": "Python 3",
   "language": "python",
   "name": "python3"
  },
  "language_info": {
   "codemirror_mode": {
    "name": "ipython",
    "version": 3
   },
   "file_extension": ".py",
   "mimetype": "text/x-python",
   "name": "python",
   "nbconvert_exporter": "python",
   "pygments_lexer": "ipython3",
   "version": "3.12.9"
  }
 },
 "nbformat": 4,
 "nbformat_minor": 2
}

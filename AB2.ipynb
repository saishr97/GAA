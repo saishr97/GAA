{
 "cells": [
  {
   "cell_type": "markdown",
   "metadata": {},
   "source": [
    "# Website Conversion Rate\n",
    "A company is testing two versions of a landing page (A and B) to see which one has a higher conversion rate.\n",
    "\n",
    "Dataset (Generated Sample)\n",
    "Group A (old design): 500 visitors, 50 conversions\n",
    "Group B (new design): 480 visitors, 60 conversions\n",
    "Hypothesis:\n",
    "\n",
    "Null (H0): No difference in conversion rates between A and B.\n",
    "\n",
    "Alternative (H1): Conversion rates are different."
   ]
  },
  {
   "cell_type": "code",
   "execution_count": 7,
   "metadata": {},
   "outputs": [],
   "source": [
    "import numpy as np\n",
    "from statsmodels.stats.proportion import proportions_ztest"
   ]
  },
  {
   "cell_type": "code",
   "execution_count": 8,
   "metadata": {},
   "outputs": [],
   "source": [
    "# Data\n",
    "conversions = np.array([50, 60])  # Successes\n",
    "visitors = np.array([500, 480])   # Trials"
   ]
  },
  {
   "cell_type": "code",
   "execution_count": 10,
   "metadata": {},
   "outputs": [],
   "source": [
    "# Proportion test\n",
    "z_score, p_value = proportions_ztest(conversions, visitors, alternative='two-sided')"
   ]
  },
  {
   "cell_type": "code",
   "execution_count": 11,
   "metadata": {},
   "outputs": [
    {
     "name": "stdout",
     "output_type": "stream",
     "text": [
      "Z-score: -1.2394\n",
      "P-value: 0.2152\n"
     ]
    }
   ],
   "source": [
    "# Print the Z-score and P-value\n",
    "print(f'Z-score: {z_score:.4f}')\n",
    "print(f'P-value: {p_value:.4f}')"
   ]
  },
  {
   "cell_type": "markdown",
   "metadata": {},
   "source": [
    "The P-value (0.2152) is greater than 0.05, so we fail to reject the null hypothesis. There is no significant difference in conversion rates between Group A and Group B."
   ]
  }
 ],
 "metadata": {
  "kernelspec": {
   "display_name": "Python 3",
   "language": "python",
   "name": "python3"
  },
  "language_info": {
   "codemirror_mode": {
    "name": "ipython",
    "version": 3
   },
   "file_extension": ".py",
   "mimetype": "text/x-python",
   "name": "python",
   "nbconvert_exporter": "python",
   "pygments_lexer": "ipython3",
   "version": "3.12.9"
  }
 },
 "nbformat": 4,
 "nbformat_minor": 2
}

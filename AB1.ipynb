{
 "cells": [
  {
   "cell_type": "markdown",
   "metadata": {},
   "source": [
    "# Average Order Value (AOV)\n"
   ]
  },
  {
   "cell_type": "markdown",
   "metadata": {},
   "source": [
    "## An e-commerce platform tests two pricing strategies on different user groups to check if the average order value changes."
   ]
  },
  {
   "cell_type": "code",
   "execution_count": 21,
   "metadata": {},
   "outputs": [],
   "source": [
    "from scipy.stats import ttest_ind"
   ]
  },
  {
   "cell_type": "code",
   "execution_count": 15,
   "metadata": {},
   "outputs": [],
   "source": [
    "# Group A (Old Pricing): 20 users, orders\n",
    "group_a = [50, 60, 45, 70, 80, 90, 100, 75, 85, 95, 60, 55, 67, 77, 88, 92, 110, 120, 85, 95]\n",
    "\n",
    "# Group B (New Pricing): 20 users, orders\n",
    "group_b = [55, 65, 50, 75, 85, 95, 105, 80, 90, 100, 65, 60, 70, 80, 90, 95, 115, 125, 90, 100]"
   ]
  },
  {
   "cell_type": "markdown",
   "metadata": {},
   "source": [
    "HO: No significant difference in AOV between groups\n",
    "\n",
    "H1: AOV is different"
   ]
  },
  {
   "cell_type": "code",
   "execution_count": 23,
   "metadata": {},
   "outputs": [],
   "source": [
    "t_stat, p_value = ttest_ind(a=group_a, b=group_b, equal_var=False)"
   ]
  },
  {
   "cell_type": "code",
   "execution_count": 25,
   "metadata": {},
   "outputs": [
    {
     "name": "stdout",
     "output_type": "stream",
     "text": [
      "T-statistic: -0.7217\n",
      "P-value: 0.4749\n"
     ]
    }
   ],
   "source": [
    "print(f'T-statistic: {t_stat:.4f}')\n",
    "print(f'P-value: {p_value:.4f}')"
   ]
  },
  {
   "cell_type": "markdown",
   "metadata": {},
   "source": [
    "T-statistic = -0.7217: Indicates the direction and magnitude of the difference (negative means Group A has a lower mean than Group B, but the difference is small).\n",
    "\n",
    "p-value = 0.4749: This is way above 0.05, meaning we fail to reject the null hypothesis (H₀). There is no strong evidence that the new pricing strategy affects AOV."
   ]
  }
 ],
 "metadata": {
  "kernelspec": {
   "display_name": "Python 3",
   "language": "python",
   "name": "python3"
  },
  "language_info": {
   "codemirror_mode": {
    "name": "ipython",
    "version": 3
   },
   "file_extension": ".py",
   "mimetype": "text/x-python",
   "name": "python",
   "nbconvert_exporter": "python",
   "pygments_lexer": "ipython3",
   "version": "3.12.9"
  }
 },
 "nbformat": 4,
 "nbformat_minor": 2
}

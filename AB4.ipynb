{
 "cells": [
  {
   "cell_type": "markdown",
   "metadata": {},
   "source": [
    "#### Feature Engagement Test (T-Test)\n",
    "##### Scenario\n",
    "You're testing whether a new app feature (Group B) affects user engagement by comparing average session time.\n",
    "\n",
    "Data Structure (session_time_data.csv)\n",
    "Each row represents a user session:\n",
    "\n",
    "User_ID: Unique user ID.\n",
    "Group: \"A\" (Old App) or \"B\" (New Feature).\n",
    "Session_Time: Number of minutes the user spent on the app.\n",
    "Statistical Test Used: Independent T-Test\n",
    "Since we are comparing mean session times (continuous data), we use an independent T-test."
   ]
  },
  {
   "cell_type": "code",
   "execution_count": 1,
   "metadata": {},
   "outputs": [],
   "source": [
    "import pandas as pd\n",
    "import scipy.stats as stats"
   ]
  },
  {
   "cell_type": "code",
   "execution_count": 2,
   "metadata": {},
   "outputs": [],
   "source": [
    "# Load dataset\n",
    "df = pd.read_csv(\"session_time_data.csv\")"
   ]
  },
  {
   "cell_type": "code",
   "execution_count": 3,
   "metadata": {},
   "outputs": [],
   "source": [
    "# Extract session times for both groups\n",
    "\n",
    "session_A = df[df['Group'] == 'A']['Session_Time']\n",
    "session_B = df[df['Group'] == 'B']['Session_Time']"
   ]
  },
  {
   "cell_type": "code",
   "execution_count": 4,
   "metadata": {},
   "outputs": [],
   "source": [
    "# Perform independent T-test\n",
    "\n",
    "t_stat, p_value = stats.ttest_ind(session_A, session_B, equal_var=False)"
   ]
  },
  {
   "cell_type": "code",
   "execution_count": 6,
   "metadata": {},
   "outputs": [
    {
     "name": "stdout",
     "output_type": "stream",
     "text": [
      "T-Statistic: 0.3557\n",
      "P-Value: 0.7221\n"
     ]
    }
   ],
   "source": [
    "# printing the results\n",
    "print(f\"T-Statistic: {t_stat:.4f}\")\n",
    "print(f\"P-Value: {p_value:.4f}\")"
   ]
  },
  {
   "cell_type": "code",
   "execution_count": 7,
   "metadata": {},
   "outputs": [
    {
     "name": "stdout",
     "output_type": "stream",
     "text": [
      "No significant difference.\n"
     ]
    }
   ],
   "source": [
    "# Conclusion\n",
    "if p_value < 0.05:\n",
    "    print(\"Significant difference in session times!\")\n",
    "else:\n",
    "    print(\"No significant difference.\")"
   ]
  }
 ],
 "metadata": {
  "kernelspec": {
   "display_name": "Python 3",
   "language": "python",
   "name": "python3"
  },
  "language_info": {
   "codemirror_mode": {
    "name": "ipython",
    "version": 3
   },
   "file_extension": ".py",
   "mimetype": "text/x-python",
   "name": "python",
   "nbconvert_exporter": "python",
   "pygments_lexer": "ipython3",
   "version": "3.12.9"
  }
 },
 "nbformat": 4,
 "nbformat_minor": 2
}
